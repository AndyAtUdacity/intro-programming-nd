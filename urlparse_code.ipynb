{
 "cells": [
  {
   "cell_type": "code",
   "execution_count": 2,
   "metadata": {
    "collapsed": true
   },
   "outputs": [],
   "source": [
    "from urlparse import urlparse"
   ]
  },
  {
   "cell_type": "code",
   "execution_count": 5,
   "metadata": {
    "collapsed": false
   },
   "outputs": [],
   "source": [
    "example_url = \"http://codepen.io/AndyAtUdacity/pen/ByVLVX\"\n",
    "url_pieces = urlparse(example_url)\n",
    "scheme, netloc, path, params, query, fragment = url_pieces"
   ]
  },
  {
   "cell_type": "code",
   "execution_count": 6,
   "metadata": {
    "collapsed": false
   },
   "outputs": [
    {
     "data": {
      "text/plain": [
       "'/AndyAtUdacity/pen/ByVLVX'"
      ]
     },
     "execution_count": 6,
     "metadata": {},
     "output_type": "execute_result"
    }
   ],
   "source": [
    "path"
   ]
  },
  {
   "cell_type": "code",
   "execution_count": 8,
   "metadata": {
    "collapsed": false
   },
   "outputs": [],
   "source": [
    "path_segments = path.split('/')\n",
    "_, user_name, _, code_pen_id = path_segments"
   ]
  },
  {
   "cell_type": "code",
   "execution_count": 14,
   "metadata": {
    "collapsed": false
   },
   "outputs": [
    {
     "data": {
      "text/plain": [
       "ParseResult(scheme='http', netloc='codepen.io', path='/AndyAtUdacity/pen/ByVLVX', params='', query='', fragment='')"
      ]
     },
     "execution_count": 14,
     "metadata": {},
     "output_type": "execute_result"
    }
   ],
   "source": [
    "url_pieces"
   ]
  },
  {
   "cell_type": "code",
   "execution_count": 9,
   "metadata": {
    "collapsed": true
   },
   "outputs": [],
   "source": [
    "new_url = \"http://codepen.io/\""
   ]
  },
  {
   "cell_type": "code",
   "execution_count": 22,
   "metadata": {
    "collapsed": true
   },
   "outputs": [],
   "source": [
    "def get_user_name_and_pen_id(input_url):\n",
    "    try:\n",
    "        url_pieces = urlparse(input_url)\n",
    "        \n",
    "        scheme = url_pieces.scheme\n",
    "        if scheme != 'http':\n",
    "            return {'valid_url': False,\n",
    "                    'error_message' : 'Your link should begin with http://'}\n",
    "        \n",
    "        host = url_pieces.netloc\n",
    "        if host != 'codepen.io':\n",
    "            return {'valid_url': False,\n",
    "                    'error_message': 'The link you submitted is not to codepen.io'}\n",
    "        \n",
    "        path = url_pieces.path\n",
    "        path_segments = path.split('/')\n",
    "        if len(path_segments) != 4:\n",
    "            return {'valid_url' : False,\n",
    "                    'error_message' : 'That URL does not go to a pen in codepen.'}\n",
    "        \n",
    "        user_name   = path_segments[1]\n",
    "        code_pen_id = path_segments[3]\n",
    "        return {'user_name'   : user_name,\n",
    "                'code_pen_id' : code_pen_id,\n",
    "                'valid_url'   : True}\n",
    "    except:\n",
    "        return {'valid_url'     : False,\n",
    "                'error_message' : \"That isn't a valid codepen URL. Make sure to copy and paste your URL from codepen exactly.\"}"
   ]
  },
  {
   "cell_type": "code",
   "execution_count": 23,
   "metadata": {
    "collapsed": false
   },
   "outputs": [
    {
     "name": "stdout",
     "output_type": "stream",
     "text": [
      "{'valid_url': False, 'error_message': 'That URL does not go to a pen in codepen.'}\n"
     ]
    }
   ],
   "source": [
    "print get_user_name_and_pen_id('http://codepen.io')"
   ]
  }
 ],
 "metadata": {
  "kernelspec": {
   "display_name": "Python 2",
   "language": "python",
   "name": "python2"
  },
  "language_info": {
   "codemirror_mode": {
    "name": "ipython",
    "version": 2
   },
   "file_extension": ".py",
   "mimetype": "text/x-python",
   "name": "python",
   "nbconvert_exporter": "python",
   "pygments_lexer": "ipython2",
   "version": "2.7.6"
  }
 },
 "nbformat": 4,
 "nbformat_minor": 0
}
