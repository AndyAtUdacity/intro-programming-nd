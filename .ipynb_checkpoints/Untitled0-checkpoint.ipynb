{
 "metadata": {
  "name": "",
  "signature": "sha256:bd3e481561f7f9809ee05cbaf8c9a8a77613675c4c4436abe65647066c4f8475"
 },
 "nbformat": 3,
 "nbformat_minor": 0,
 "worksheets": []
}